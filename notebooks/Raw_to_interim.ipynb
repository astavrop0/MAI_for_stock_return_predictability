{
 "cells": [
  {
   "cell_type": "markdown",
   "id": "415f545a",
   "metadata": {},
   "source": [
    "# Preprocess data (raw to interim)"
   ]
  },
  {
   "cell_type": "markdown",
   "id": "2fd32184",
   "metadata": {},
   "source": [
    "The codes in this notebook start from the raw data, check for missing values, fill them properly and then save them in the file \"data/interim\" "
   ]
  },
  {
   "cell_type": "markdown",
   "id": "1f63d6d6",
   "metadata": {},
   "source": [
    "First we need to load all the packages necessary for this notebook. In order to install the packages run pip install requirements.txt"
   ]
  },
  {
   "cell_type": "code",
   "execution_count": 1,
   "id": "61ee9c8c",
   "metadata": {},
   "outputs": [],
   "source": [
    "import os\n",
    "import pandas as pd\n",
    "import warnings"
   ]
  },
  {
   "cell_type": "markdown",
   "id": "effa5051",
   "metadata": {},
   "source": [
    "Next we get the data using the environment variable RESEARCH_DATA_PATH which should direct to the data folder of this project"
   ]
  },
  {
   "cell_type": "code",
   "execution_count": 2,
   "id": "7a0e42ae",
   "metadata": {},
   "outputs": [
    {
     "name": "stdout",
     "output_type": "stream",
     "text": [
      "Data loaded successfully!\n"
     ]
    }
   ],
   "source": [
    "# Get the path to the data folder from the environment variable\n",
    "DATA_PATH = os.environ.get(\"RESEARCH_DATA_PATH\")\n",
    "\n",
    "# Check if the DATA_PATH is not None\n",
    "if DATA_PATH is not None:\n",
    "\n",
    "    mai_daily_data = pd.read_csv(f'{DATA_PATH}/raw/mai_daily_data_raw.csv')\n",
    "    mai_monthly_data = pd.read_csv(f'{DATA_PATH}/raw/mai_monthly_data_raw.csv')\n",
    "    mef_daily_data = pd.read_csv(f'{DATA_PATH}/raw/mef_daily_data_raw.csv')\n",
    "    mef_monthly_data = pd.read_csv(f'{DATA_PATH}/raw/mef_monthly_data_raw.csv')\n",
    "    mkt_daily_data = pd.read_csv(f'{DATA_PATH}/raw/mkt_daily_data_raw.csv')\n",
    "    mkt_monthly_data = pd.read_csv(f'{DATA_PATH}/raw/mkt_monthly_data_raw.csv')\n",
    "\n",
    "    print(\"Data loaded successfully!\")\n",
    "else:\n",
    "    print(\"ERROR: The RESEARCH_DATA_PATH environment variable is not set.\")\n"
   ]
  },
  {
   "cell_type": "code",
   "execution_count": 3,
   "id": "c91d6aa6",
   "metadata": {
    "scrolled": true
   },
   "outputs": [],
   "source": [
    "#Set date as index column\n",
    "mai_daily_data.set_index('date', inplace=True)\n",
    "mai_monthly_data.set_index('date', inplace=True)\n",
    "mef_daily_data.set_index('date', inplace=True)\n",
    "mef_monthly_data.set_index('date', inplace=True)\n",
    "mkt_daily_data.set_index('date', inplace=True)\n",
    "mkt_monthly_data.set_index('date', inplace=True)"
   ]
  },
  {
   "cell_type": "markdown",
   "id": "406f8a0c",
   "metadata": {},
   "source": [
    "## MAI datasets"
   ]
  },
  {
   "cell_type": "markdown",
   "id": "277adb7d",
   "metadata": {},
   "source": [
    "First we look at the two MAI datasets (monthly and daily)"
   ]
  },
  {
   "cell_type": "markdown",
   "id": "ec2b6d33",
   "metadata": {},
   "source": [
    "We notice that some values are missing (value 0)"
   ]
  },
  {
   "cell_type": "code",
   "execution_count": 4,
   "id": "e71f2130",
   "metadata": {
    "scrolled": true
   },
   "outputs": [],
   "source": [
    "#This function creates a table showing the total number of values, the number of missing values and the percentage of missing values\n",
    "\n",
    "def missing(mai_dataframe):\n",
    "    warnings.filterwarnings('ignore')\n",
    "    missing_values = pd.DataFrame(columns=['Column', 'Total Count', 'Missing values', '% of missing values'])\n",
    "\n",
    "    # Iterate through each column in the DataFrame\n",
    "    for column in mai_dataframe.columns:\n",
    "        total_count = mai_dataframe[column].count()  # Total number of non-NA/null entries\n",
    "        zero_count = (mai_dataframe[column] == 0).sum()  # Count of zeros\n",
    "        percentage_zeros = (zero_count / total_count) * 100  # Percentage of zeros\n",
    "\n",
    "        # Append the results to the DataFrame\n",
    "        missing_values = missing_values.append({\n",
    "            'Column': column,\n",
    "            'Total Count': total_count,\n",
    "            'Missing values': zero_count,\n",
    "            '% of missing values': percentage_zeros\n",
    "        }, ignore_index=True)\n",
    "\n",
    "    # Print the results\n",
    "    print(missing_values)\n",
    "    warnings.filterwarnings('default')\n"
   ]
  },
  {
   "cell_type": "code",
   "execution_count": 5,
   "id": "0f8bb16b",
   "metadata": {},
   "outputs": [
    {
     "name": "stdout",
     "output_type": "stream",
     "text": [
      "              Column Total Count Missing values  % of missing values\n",
      "0   credit_rating_ni        8523           5844            68.567406\n",
      "1             gdp_ni        8523           4957            58.160272\n",
      "2       house_mkt_ni        8523           5593            65.622433\n",
      "3       inflation_ni        8523           2454            28.792679\n",
      "4        monetary_ni        8523           1780            20.884665\n",
      "5             oil_ni        8523           2942            34.518362\n",
      "6           unemp_ni        8523           2525            29.625719\n",
      "7             usd_ni        8523           7271            85.310337\n",
      "8   credit_rating_wi        8523           4600            53.971606\n",
      "9             gdp_wi        8523           2205            25.871172\n",
      "10      house_mkt_wi        8523           3882            45.547342\n",
      "11      inflation_wi        8523            580             6.805116\n",
      "12       monetary_wi        8523            747             8.764520\n",
      "13            oil_wi        8523            931            10.923384\n",
      "14          unemp_wi        8523           1496            17.552505\n",
      "15            usd_wi        8523           3221            37.791857\n"
     ]
    }
   ],
   "source": [
    "missing(mai_daily_data)"
   ]
  },
  {
   "cell_type": "code",
   "execution_count": 6,
   "id": "a4e7785f",
   "metadata": {},
   "outputs": [
    {
     "name": "stdout",
     "output_type": "stream",
     "text": [
      "              Column Total Count Missing values  % of missing values\n",
      "0   credit_rating_ni         408            285            69.852941\n",
      "1             gdp_ni         408            201            49.264706\n",
      "2       house_mkt_ni         408            256            62.745098\n",
      "3       inflation_ni         408            127            31.127451\n",
      "4        monetary_ni         408             79            19.362745\n",
      "5             oil_ni         408            161            39.460784\n",
      "6           unemp_ni         408             97            23.774510\n",
      "7             usd_ni         408            351            86.029412\n",
      "8   credit_rating_wi         408            234            57.352941\n",
      "9             gdp_wi         408             71            17.401961\n",
      "10      house_mkt_wi         408            166            40.686275\n",
      "11      inflation_wi         408             22             5.392157\n",
      "12       monetary_wi         408             34             8.333333\n",
      "13            oil_wi         408             55            13.480392\n",
      "14          unemp_wi         408             55            13.480392\n",
      "15            usd_wi         408            136            33.333333\n"
     ]
    }
   ],
   "source": [
    "missing(mai_monthly_data)"
   ]
  },
  {
   "cell_type": "markdown",
   "id": "670702d0",
   "metadata": {},
   "source": [
    "In order to get rid of some of the missing values, when an index value is missing from just one of the two sources (New York Times or Wall Street Journal) we use the non-missing value to fill in the missing one."
   ]
  },
  {
   "cell_type": "code",
   "execution_count": 7,
   "id": "fa33a3aa",
   "metadata": {},
   "outputs": [],
   "source": [
    "column_bases = ['credit_rating', 'gdp', 'house_mkt', 'inflation', 'monetary', 'oil', 'unemp', 'usd']\n",
    "\n",
    "for base in column_bases:\n",
    "    wi_col = f'{base}_wi'\n",
    "    ni_col = f'{base}_ni'\n",
    "\n",
    "    # Replace 0 in wi_col with value from ni_col if ni_col is not 0\n",
    "    mask = (mai_daily_data[wi_col] == 0) & (mai_daily_data[ni_col] != 0)\n",
    "    mai_daily_data.loc[mask, wi_col] = mai_daily_data.loc[mask, ni_col]\n",
    "\n",
    "    # Replace 0 in ni_col with value from wi_col if wi_col is not 0\n",
    "    mask = (mai_daily_data[ni_col] == 0) & (mai_daily_data[wi_col] != 0)\n",
    "    mai_daily_data.loc[mask, ni_col] = mai_daily_data.loc[mask, wi_col]"
   ]
  },
  {
   "cell_type": "code",
   "execution_count": 8,
   "id": "a48658d1",
   "metadata": {},
   "outputs": [],
   "source": [
    "column_bases = ['credit_rating', 'gdp', 'house_mkt', 'inflation', 'monetary', 'oil', 'unemp', 'usd']\n",
    "\n",
    "for base in column_bases:\n",
    "    wi_col = f'{base}_wi'\n",
    "    ni_col = f'{base}_ni'\n",
    "\n",
    "    # Replace 0 in wi_col with value from ni_col if ni_col is not 0\n",
    "    mask = (mai_monthly_data[wi_col] == 0) & (mai_monthly_data[ni_col] != 0)\n",
    "    mai_monthly_data.loc[mask, wi_col] = mai_monthly_data.loc[mask, ni_col]\n",
    "\n",
    "    # Replace 0 in ni_col with value from wi_col if wi_col is not 0\n",
    "    mask = (mai_monthly_data[ni_col] == 0) & (mai_monthly_data[wi_col] != 0)\n",
    "    mai_monthly_data.loc[mask, ni_col] = mai_monthly_data.loc[mask, wi_col]"
   ]
  },
  {
   "cell_type": "code",
   "execution_count": 9,
   "id": "05d6e6a7",
   "metadata": {
    "scrolled": true
   },
   "outputs": [
    {
     "name": "stdout",
     "output_type": "stream",
     "text": [
      "              Column Total Count Missing values  % of missing values\n",
      "0   credit_rating_ni        8523           3407            39.974187\n",
      "1             gdp_ni        8523           1380            16.191482\n",
      "2       house_mkt_ni        8523           3001            35.210607\n",
      "3       inflation_ni        8523            223             2.616450\n",
      "4        monetary_ni        8523            236             2.768978\n",
      "5             oil_ni        8523            519             6.089405\n",
      "6           unemp_ni        8523            604             7.086707\n",
      "7             usd_ni        8523           2681            31.456060\n",
      "8   credit_rating_wi        8523           3407            39.974187\n",
      "9             gdp_wi        8523           1380            16.191482\n",
      "10      house_mkt_wi        8523           3001            35.210607\n",
      "11      inflation_wi        8523            223             2.616450\n",
      "12       monetary_wi        8523            236             2.768978\n",
      "13            oil_wi        8523            519             6.089405\n",
      "14          unemp_wi        8523            604             7.086707\n",
      "15            usd_wi        8523           2681            31.456060\n"
     ]
    }
   ],
   "source": [
    "missing(mai_daily_data)"
   ]
  },
  {
   "cell_type": "code",
   "execution_count": 10,
   "id": "9fa1f5c2",
   "metadata": {},
   "outputs": [
    {
     "name": "stdout",
     "output_type": "stream",
     "text": [
      "              Column Total Count Missing values  % of missing values\n",
      "0   credit_rating_ni         408            180            44.117647\n",
      "1             gdp_ni         408             46            11.274510\n",
      "2       house_mkt_ni         408            116            28.431373\n",
      "3       inflation_ni         408              9             2.205882\n",
      "4        monetary_ni         408             10             2.450980\n",
      "5             oil_ni         408             37             9.068627\n",
      "6           unemp_ni         408             21             5.147059\n",
      "7             usd_ni         408            111            27.205882\n",
      "8   credit_rating_wi         408            180            44.117647\n",
      "9             gdp_wi         408             46            11.274510\n",
      "10      house_mkt_wi         408            116            28.431373\n",
      "11      inflation_wi         408              9             2.205882\n",
      "12       monetary_wi         408             10             2.450980\n",
      "13            oil_wi         408             37             9.068627\n",
      "14          unemp_wi         408             21             5.147059\n",
      "15            usd_wi         408            111            27.205882\n"
     ]
    }
   ],
   "source": [
    "missing(mai_monthly_data)"
   ]
  },
  {
   "cell_type": "markdown",
   "id": "c4329c93",
   "metadata": {},
   "source": [
    "Now we make the assumpion that for the values that are still missing, there was not any change in the corresponding index since the first non-missing value. So we use the last observed value to fill in the missing ones."
   ]
  },
  {
   "cell_type": "code",
   "execution_count": 11,
   "id": "1b640930",
   "metadata": {},
   "outputs": [
    {
     "name": "stderr",
     "output_type": "stream",
     "text": [
      "C:\\Users\\ANDREAS\\anaconda3\\lib\\site-packages\\pandas\\core\\dtypes\\cast.py:1841: DeprecationWarning: np.find_common_type is deprecated.  Please use `np.result_type` or `np.promote_types`.\n",
      "See https://numpy.org/devdocs/release/1.25.0-notes.html and the docs for more information.  (Deprecated NumPy 1.25)\n",
      "  return np.find_common_type(types, [])\n"
     ]
    }
   ],
   "source": [
    "# Replace 0 with NaN and then forward fill\n",
    "mai_daily_data.replace(0, pd.NA, inplace=True)\n",
    "mai_daily_data.fillna(method='ffill', inplace=True)"
   ]
  },
  {
   "cell_type": "code",
   "execution_count": 12,
   "id": "9b70b882",
   "metadata": {},
   "outputs": [],
   "source": [
    "# Replace 0 with NaN and then forward fill\n",
    "mai_monthly_data.replace(0, pd.NA, inplace=True)\n",
    "mai_monthly_data.fillna(method='ffill', inplace=True)"
   ]
  },
  {
   "cell_type": "code",
   "execution_count": 13,
   "id": "02b1c3b5",
   "metadata": {
    "scrolled": true
   },
   "outputs": [
    {
     "name": "stdout",
     "output_type": "stream",
     "text": [
      "              Column Total Count Missing values  % of missing values\n",
      "0   credit_rating_ni        8523              0                  0.0\n",
      "1             gdp_ni        8523              0                  0.0\n",
      "2       house_mkt_ni        8523              0                  0.0\n",
      "3       inflation_ni        8523              0                  0.0\n",
      "4        monetary_ni        8523              0                  0.0\n",
      "5             oil_ni        8523              0                  0.0\n",
      "6           unemp_ni        8523              0                  0.0\n",
      "7             usd_ni        8523              0                  0.0\n",
      "8   credit_rating_wi        8523              0                  0.0\n",
      "9             gdp_wi        8523              0                  0.0\n",
      "10      house_mkt_wi        8523              0                  0.0\n",
      "11      inflation_wi        8523              0                  0.0\n",
      "12       monetary_wi        8523              0                  0.0\n",
      "13            oil_wi        8523              0                  0.0\n",
      "14          unemp_wi        8523              0                  0.0\n",
      "15            usd_wi        8523              0                  0.0\n"
     ]
    }
   ],
   "source": [
    "missing(mai_daily_data)"
   ]
  },
  {
   "cell_type": "code",
   "execution_count": 14,
   "id": "b033fbde",
   "metadata": {
    "scrolled": true
   },
   "outputs": [
    {
     "name": "stdout",
     "output_type": "stream",
     "text": [
      "              Column Total Count Missing values  % of missing values\n",
      "0   credit_rating_ni        8523              0                  0.0\n",
      "1             gdp_ni        8523              0                  0.0\n",
      "2       house_mkt_ni        8523              0                  0.0\n",
      "3       inflation_ni        8523              0                  0.0\n",
      "4        monetary_ni        8523              0                  0.0\n",
      "5             oil_ni        8523              0                  0.0\n",
      "6           unemp_ni        8523              0                  0.0\n",
      "7             usd_ni        8523              0                  0.0\n",
      "8   credit_rating_wi        8523              0                  0.0\n",
      "9             gdp_wi        8523              0                  0.0\n",
      "10      house_mkt_wi        8523              0                  0.0\n",
      "11      inflation_wi        8523              0                  0.0\n",
      "12       monetary_wi        8523              0                  0.0\n",
      "13            oil_wi        8523              0                  0.0\n",
      "14          unemp_wi        8523              0                  0.0\n",
      "15            usd_wi        8523              0                  0.0\n"
     ]
    }
   ],
   "source": [
    "missing(mai_daily_data)"
   ]
  },
  {
   "cell_type": "markdown",
   "id": "ed7c75af",
   "metadata": {},
   "source": [
    "So now that we have filled all the missing values we proceed with storing them."
   ]
  },
  {
   "cell_type": "code",
   "execution_count": 15,
   "id": "a269076e",
   "metadata": {},
   "outputs": [],
   "source": [
    "mai_daily_data.to_csv(f'{DATA_PATH}/interim/mai_daily_data_interim.csv', index=True)\n",
    "mai_monthly_data.to_csv(f'{DATA_PATH}/interim/mai_monthly_data_interim.csv', index=True)"
   ]
  },
  {
   "cell_type": "markdown",
   "id": "adf51109",
   "metadata": {},
   "source": [
    "## MEF datasets"
   ]
  },
  {
   "cell_type": "markdown",
   "id": "fa43aca8",
   "metadata": {},
   "source": [
    "We check for missing values in the two MEF datasets (monthly, daily)"
   ]
  },
  {
   "cell_type": "code",
   "execution_count": 16,
   "id": "fd60c73b",
   "metadata": {},
   "outputs": [
    {
     "name": "stdout",
     "output_type": "stream",
     "text": [
      "Number of missing values in MEF monthly dataset:\n",
      "index          0\n",
      "lag_index_1    0\n",
      "d12            0\n",
      "e12            0\n",
      "bm             0\n",
      "tbl            0\n",
      "aaa            0\n",
      "baa            0\n",
      "lty            0\n",
      "ntis           0\n",
      "infl           0\n",
      "ltr            0\n",
      "corpr          0\n",
      "svar           0\n",
      "dtype: int64\n",
      " \n",
      "Number of missing values in MEF daily dataset:\n",
      "index          0\n",
      "lag_index_1    0\n",
      "d12            0\n",
      "e12            0\n",
      "bm             0\n",
      "tbl            0\n",
      "aaa            0\n",
      "baa            0\n",
      "lty            0\n",
      "ntis           0\n",
      "infl           0\n",
      "ltr            0\n",
      "corpr          0\n",
      "svar           0\n",
      "dtype: int64\n"
     ]
    }
   ],
   "source": [
    "# Calculate the number of missing values in each column\n",
    "missing_values_count_mef_monthly = mef_monthly_data.isna().sum()\n",
    "missing_values_count_mef_daily = mef_daily_data.isna().sum()\n",
    "\n",
    "# Print the number of missing values for each column\n",
    "print(\"Number of missing values in MEF monthly dataset:\")\n",
    "print(missing_values_count_mef_monthly)\n",
    "print(\" \")\n",
    "\n",
    "print(\"Number of missing values in MEF daily dataset:\")\n",
    "print(missing_values_count_mef_daily)"
   ]
  },
  {
   "cell_type": "markdown",
   "id": "79b5e648",
   "metadata": {},
   "source": [
    "We notice that there are not missing values in these datasets so we proceed to save them."
   ]
  },
  {
   "cell_type": "code",
   "execution_count": 17,
   "id": "119a0aa5",
   "metadata": {},
   "outputs": [],
   "source": [
    "mef_daily_data.to_csv(f'{DATA_PATH}/interim/mef_daily_data_interim.csv', index=True)\n",
    "mef_monthly_data.to_csv(f'{DATA_PATH}/interim/mef_monthly_data_interim.csv', index=True)"
   ]
  },
  {
   "cell_type": "markdown",
   "id": "a5b3ad25",
   "metadata": {},
   "source": [
    "## MKT datasets"
   ]
  },
  {
   "cell_type": "markdown",
   "id": "4f59313b",
   "metadata": {},
   "source": [
    "Now we do the same for the MKT datasets"
   ]
  },
  {
   "cell_type": "code",
   "execution_count": 18,
   "id": "779b2786",
   "metadata": {},
   "outputs": [
    {
     "name": "stdout",
     "output_type": "stream",
     "text": [
      "Number of missing values in MKT monthly dataset:\n",
      "GSPC           0\n",
      "lag_GSPC_1     0\n",
      "lead_GSPC_1    0\n",
      "rfr            0\n",
      "lag_rfr_1      0\n",
      "lag_date_1     0\n",
      "lead_date_1    0\n",
      "dtype: int64\n",
      " \n",
      "Number of missing values in MKT daily dataset:\n",
      "GSPC           0\n",
      "lag_GSPC_1     0\n",
      "lead_GSPC_2    0\n",
      "lead_GSPC_1    0\n",
      "rfr            0\n",
      "lag_rfr_1      0\n",
      "lag_date_1     0\n",
      "lead_date_2    0\n",
      "lead_date_1    0\n",
      "dtype: int64\n"
     ]
    }
   ],
   "source": [
    "missing_values_count_mkt_monthly = mkt_monthly_data.isna().sum()\n",
    "missing_values_count_mkt_daily = mkt_daily_data.isna().sum()\n",
    "\n",
    "# Print the number of missing values for each column\n",
    "print(\"Number of missing values in MKT monthly dataset:\")\n",
    "print(missing_values_count_mkt_monthly)\n",
    "print(\" \")\n",
    "\n",
    "print(\"Number of missing values in MKT daily dataset:\")\n",
    "print(missing_values_count_mkt_daily)"
   ]
  },
  {
   "cell_type": "markdown",
   "id": "80fc3732",
   "metadata": {},
   "source": [
    "Again we notice that there are no missing values. However there are columns that we don't need. So we drop the following:  \n",
    "\n",
    "For the daily data:\n",
    "1) lag_GSPC_1 (returns with one day lag)  \n",
    "2) lead_GSPC_2 (returns with one day lead)  \n",
    "3) lag_rfr_1 (risk free rate with one day lag)  \n",
    "4) lag_date_1 (date with one day lag)  \n",
    "5) lead_date_2 (date with one day lead)  \n",
    "\n",
    "For the monthly data:\n",
    "1) lag_GSPC_1 (returns with one day lag)  \n",
    "2) lag_rfr_1 (risk free rate with one day lag)  \n",
    "3) lag_date_1 (date with one day lag)"
   ]
  },
  {
   "cell_type": "code",
   "execution_count": 19,
   "id": "e036951c",
   "metadata": {
    "scrolled": false
   },
   "outputs": [],
   "source": [
    "# Drop the specified columns in the daily market dataset\n",
    "columns_to_drop_daily = ['lag_GSPC_1', 'lead_GSPC_2', 'lag_rfr_1', 'lag_date_1', 'lead_date_2']\n",
    "mkt_daily_data = mkt_daily_data.drop(columns=columns_to_drop_daily)\n",
    "\n",
    "# Drop the specified columns in the daily market dataset\n",
    "columns_to_drop_monthly = ['lag_GSPC_1', 'lag_rfr_1', 'lag_date_1']\n",
    "mkt_monthly_data = mkt_monthly_data.drop(columns=columns_to_drop_monthly)\n"
   ]
  },
  {
   "cell_type": "markdown",
   "id": "16622c65",
   "metadata": {},
   "source": [
    "Now we save these datasets."
   ]
  },
  {
   "cell_type": "code",
   "execution_count": 21,
   "id": "9c3cf027",
   "metadata": {},
   "outputs": [],
   "source": [
    "mkt_daily_data.to_csv(f'{DATA_PATH}/interim/mkt_daily_data_interim.csv', index=True)\n",
    "mkt_monthly_data.to_csv(f'{DATA_PATH}/interim/mkt_monthly_data_interim.csv', index=True)"
   ]
  }
 ],
 "metadata": {
  "kernelspec": {
   "display_name": "Python 3 (ipykernel)",
   "language": "python",
   "name": "python3"
  },
  "language_info": {
   "codemirror_mode": {
    "name": "ipython",
    "version": 3
   },
   "file_extension": ".py",
   "mimetype": "text/x-python",
   "name": "python",
   "nbconvert_exporter": "python",
   "pygments_lexer": "ipython3",
   "version": "3.9.13"
  }
 },
 "nbformat": 4,
 "nbformat_minor": 5
}
