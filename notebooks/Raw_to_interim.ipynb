{
 "cells": [
  {
   "cell_type": "markdown",
   "id": "1f63d6d6",
   "metadata": {},
   "source": [
    "First we need to load all the packages necessary for this notebook. In order to install the packages run pip install requirements.txt"
   ]
  },
  {
   "cell_type": "code",
   "execution_count": 1,
   "id": "61ee9c8c",
   "metadata": {},
   "outputs": [],
   "source": [
    "import os\n",
    "import pandas as pd\n",
    "import warnings"
   ]
  },
  {
   "cell_type": "markdown",
   "id": "effa5051",
   "metadata": {},
   "source": [
    "Next we get the data using the environment variable RESEARCH_DATA_PATH which should direct to the data folder of this project"
   ]
  },
  {
   "cell_type": "code",
   "execution_count": 3,
   "id": "7a0e42ae",
   "metadata": {},
   "outputs": [
    {
     "name": "stdout",
     "output_type": "stream",
     "text": [
      "Data loaded successfully!\n"
     ]
    }
   ],
   "source": [
    "# Get the path to the data folder from the environment variable\n",
    "DATA_PATH = os.environ.get(\"RESEARCH_DATA_PATH\")\n",
    "\n",
    "# Check if the DATA_PATH is not None\n",
    "if DATA_PATH is not None:\n",
    "\n",
    "    mai_daily_data = pd.read_csv(f'{DATA_PATH}/raw/mai_d_raw.csv')\n",
    "    mai_monthly_data = pd.read_csv(f'{DATA_PATH}/raw/mai_m_raw.csv')\n",
    "    mef_monthly_data = pd.read_csv(f'{DATA_PATH}/raw/mef_m_raw.csv')\n",
    "    mkt_daily_data = pd.read_csv(f'{DATA_PATH}/raw/mkt_d_raw.csv')\n",
    "    mkt_monthly_data = pd.read_csv(f'{DATA_PATH}/raw/mkt_m_raw.csv')\n",
    "\n",
    "    print(\"Data loaded successfully!\")\n",
    "else:\n",
    "    print(\"ERROR: The RESEARCH_DATA_PATH environment variable is not set.\")\n"
   ]
  },
  {
   "cell_type": "code",
   "execution_count": 6,
   "id": "c91d6aa6",
   "metadata": {
    "scrolled": true
   },
   "outputs": [],
   "source": [
    "#Set date as index column\n",
    "mai_daily_data.set_index('date', inplace=True)\n",
    "mai_monthly_data.set_index('date', inplace=True)\n",
    "mef_monthly_data.set_index('date', inplace=True)\n",
    "mkt_daily_data.set_index('date', inplace=True)\n",
    "mkt_monthly_data.set_index('date', inplace=True)"
   ]
  },
  {
   "cell_type": "markdown",
   "id": "ec2b6d33",
   "metadata": {},
   "source": [
    "We notice that some values are missing (0)"
   ]
  },
  {
   "cell_type": "code",
   "execution_count": 7,
   "id": "e71f2130",
   "metadata": {
    "scrolled": true
   },
   "outputs": [],
   "source": [
    "#This function creates a table showing the total number of values, the number of missing values and the percentage of missing values\n",
    "\n",
    "def missing(mai_dataframe):\n",
    "    warnings.filterwarnings('ignore')\n",
    "    missing_values = pd.DataFrame(columns=['Column', 'Total Count', 'Missing values', '% of missing values'])\n",
    "\n",
    "    # Iterate through each column in the DataFrame\n",
    "    for column in mai_dataframe.columns:\n",
    "        total_count = mai_dataframe[column].count()  # Total number of non-NA/null entries\n",
    "        zero_count = (mai_dataframe[column] == 0).sum()  # Count of zeros\n",
    "        percentage_zeros = (zero_count / total_count) * 100  # Percentage of zeros\n",
    "\n",
    "        # Append the results to the DataFrame\n",
    "        missing_values = missing_values.append({\n",
    "            'Column': column,\n",
    "            'Total Count': total_count,\n",
    "            'Missing values': zero_count,\n",
    "            '% of missing values': percentage_zeros\n",
    "        }, ignore_index=True)\n",
    "\n",
    "    # Print the results\n",
    "    print(missing_values)\n",
    "    warnings.filterwarnings('default')\n"
   ]
  },
  {
   "cell_type": "code",
   "execution_count": 8,
   "id": "a4e7785f",
   "metadata": {},
   "outputs": [
    {
     "name": "stdout",
     "output_type": "stream",
     "text": [
      "              Column Total Count Missing values  % of missing values\n",
      "0   credit_rating_ni        8523           5844            68.567406\n",
      "1             gdp_ni        8523           4957            58.160272\n",
      "2       house_mkt_ni        8523           5593            65.622433\n",
      "3       inflation_ni        8523           2454            28.792679\n",
      "4        monetary_ni        8523           1780            20.884665\n",
      "5             oil_ni        8523           2942            34.518362\n",
      "6           unemp_ni        8523           2525            29.625719\n",
      "7             usd_ni        8523           7271            85.310337\n",
      "8   credit_rating_wi        8523           4600            53.971606\n",
      "9             gdp_wi        8523           2205            25.871172\n",
      "10      house_mkt_wi        8523           3882            45.547342\n",
      "11      inflation_wi        8523            580             6.805116\n",
      "12       monetary_wi        8523            747             8.764520\n",
      "13            oil_wi        8523            931            10.923384\n",
      "14          unemp_wi        8523           1496            17.552505\n",
      "15            usd_wi        8523           3221            37.791857\n"
     ]
    }
   ],
   "source": [
    "missing(mai_daily_data)"
   ]
  },
  {
   "cell_type": "markdown",
   "id": "670702d0",
   "metadata": {},
   "source": [
    "In order to get rid of some of the missing values, when an index value is missing from just one of the two sources (New York Times or Wall Street Journal) we use the non-missing value to fill in the missing one."
   ]
  },
  {
   "cell_type": "code",
   "execution_count": 9,
   "id": "fa33a3aa",
   "metadata": {},
   "outputs": [],
   "source": [
    "column_bases = ['credit_rating', 'gdp', 'house_mkt', 'inflation', 'monetary', 'oil', 'unemp', 'usd']\n",
    "\n",
    "for base in column_bases:\n",
    "    wi_col = f'{base}_wi'\n",
    "    ni_col = f'{base}_ni'\n",
    "\n",
    "    # Replace 0 in wi_col with value from ni_col if ni_col is not 0\n",
    "    mask = (mai_daily_data[wi_col] == 0) & (mai_daily_data[ni_col] != 0)\n",
    "    mai_daily_data.loc[mask, wi_col] = mai_daily_data.loc[mask, ni_col]\n",
    "\n",
    "    # Replace 0 in ni_col with value from wi_col if wi_col is not 0\n",
    "    mask = (mai_daily_data[ni_col] == 0) & (mai_daily_data[wi_col] != 0)\n",
    "    mai_daily_data.loc[mask, ni_col] = mai_daily_data.loc[mask, wi_col]"
   ]
  },
  {
   "cell_type": "code",
   "execution_count": 10,
   "id": "05d6e6a7",
   "metadata": {
    "scrolled": true
   },
   "outputs": [
    {
     "name": "stdout",
     "output_type": "stream",
     "text": [
      "              Column Total Count Missing values  % of missing values\n",
      "0   credit_rating_ni        8523           3407            39.974187\n",
      "1             gdp_ni        8523           1380            16.191482\n",
      "2       house_mkt_ni        8523           3001            35.210607\n",
      "3       inflation_ni        8523            223             2.616450\n",
      "4        monetary_ni        8523            236             2.768978\n",
      "5             oil_ni        8523            519             6.089405\n",
      "6           unemp_ni        8523            604             7.086707\n",
      "7             usd_ni        8523           2681            31.456060\n",
      "8   credit_rating_wi        8523           3407            39.974187\n",
      "9             gdp_wi        8523           1380            16.191482\n",
      "10      house_mkt_wi        8523           3001            35.210607\n",
      "11      inflation_wi        8523            223             2.616450\n",
      "12       monetary_wi        8523            236             2.768978\n",
      "13            oil_wi        8523            519             6.089405\n",
      "14          unemp_wi        8523            604             7.086707\n",
      "15            usd_wi        8523           2681            31.456060\n"
     ]
    }
   ],
   "source": [
    "missing(mai_daily_data)"
   ]
  },
  {
   "cell_type": "markdown",
   "id": "c4329c93",
   "metadata": {},
   "source": [
    "Now we make the assumpion that for the values that are still missing, there was not any change in the corresponding index since the first non-missing value. So we use the last observed value to fill in the missing ones."
   ]
  },
  {
   "cell_type": "code",
   "execution_count": 11,
   "id": "d43d3343",
   "metadata": {
    "scrolled": true
   },
   "outputs": [
    {
     "name": "stdout",
     "output_type": "stream",
     "text": [
      "              Column Total Count Missing values  % of missing values\n",
      "0   credit_rating_ni        8523           3407            39.974187\n",
      "1             gdp_ni        8523           1380            16.191482\n",
      "2       house_mkt_ni        8523           3001            35.210607\n",
      "3       inflation_ni        8523            223             2.616450\n",
      "4        monetary_ni        8523            236             2.768978\n",
      "5             oil_ni        8523            519             6.089405\n",
      "6           unemp_ni        8523            604             7.086707\n",
      "7             usd_ni        8523           2681            31.456060\n",
      "8   credit_rating_wi        8523           3407            39.974187\n",
      "9             gdp_wi        8523           1380            16.191482\n",
      "10      house_mkt_wi        8523           3001            35.210607\n",
      "11      inflation_wi        8523            223             2.616450\n",
      "12       monetary_wi        8523            236             2.768978\n",
      "13            oil_wi        8523            519             6.089405\n",
      "14          unemp_wi        8523            604             7.086707\n",
      "15            usd_wi        8523           2681            31.456060\n"
     ]
    }
   ],
   "source": [
    "missing(mai_daily_data)"
   ]
  },
  {
   "cell_type": "code",
   "execution_count": 12,
   "id": "8feffd69",
   "metadata": {},
   "outputs": [
    {
     "name": "stdout",
     "output_type": "stream",
     "text": [
      "              Column Total Count Missing values  % of missing values\n",
      "0   credit_rating_ni         408            285            69.852941\n",
      "1             gdp_ni         408            201            49.264706\n",
      "2       house_mkt_ni         408            256            62.745098\n",
      "3       inflation_ni         408            127            31.127451\n",
      "4        monetary_ni         408             79            19.362745\n",
      "5             oil_ni         408            161            39.460784\n",
      "6           unemp_ni         408             97            23.774510\n",
      "7             usd_ni         408            351            86.029412\n",
      "8   credit_rating_wi         408            234            57.352941\n",
      "9             gdp_wi         408             71            17.401961\n",
      "10      house_mkt_wi         408            166            40.686275\n",
      "11      inflation_wi         408             22             5.392157\n",
      "12       monetary_wi         408             34             8.333333\n",
      "13            oil_wi         408             55            13.480392\n",
      "14          unemp_wi         408             55            13.480392\n",
      "15            usd_wi         408            136            33.333333\n"
     ]
    }
   ],
   "source": [
    "missing(mai_monthly_data)"
   ]
  },
  {
   "cell_type": "code",
   "execution_count": 38,
   "id": "0a512d94",
   "metadata": {},
   "outputs": [],
   "source": [
    "column_bases = ['credit_rating', 'gdp', 'house_mkt', 'inflation', 'monetary', 'oil', 'unemp', 'usd']\n",
    "\n",
    "for base in column_bases:\n",
    "    wi_col = f'{base}_wi'\n",
    "    ni_col = f'{base}_ni'\n",
    "\n",
    "    # Replace 0 in wi_col with value from ni_col if ni_col is not 0\n",
    "    mask = (mai_monthly_data[wi_col] == 0) & (mai_monthly_data[ni_col] != 0)\n",
    "    mai_monthly_data.loc[mask, wi_col] = mai_monthly_data.loc[mask, ni_col]\n",
    "\n",
    "    # Replace 0 in ni_col with value from wi_col if wi_col is not 0\n",
    "    mask = (mai_monthly_data[ni_col] == 0) & (mai_monthly_data[wi_col] != 0)\n",
    "    mai_monthly_data.loc[mask, ni_col] = mai_monthly_data.loc[mask, wi_col]"
   ]
  },
  {
   "cell_type": "code",
   "execution_count": 39,
   "id": "52151943",
   "metadata": {
    "scrolled": true
   },
   "outputs": [
    {
     "name": "stdout",
     "output_type": "stream",
     "text": [
      "              Column Total Count Missing values  % of missing values\n",
      "0   credit_rating_ni         408            180            44.117647\n",
      "1             gdp_ni         408             46            11.274510\n",
      "2       house_mkt_ni         408            116            28.431373\n",
      "3       inflation_ni         408              9             2.205882\n",
      "4        monetary_ni         408             10             2.450980\n",
      "5             oil_ni         408             37             9.068627\n",
      "6           unemp_ni         408             21             5.147059\n",
      "7             usd_ni         408            111            27.205882\n",
      "8   credit_rating_wi         408            180            44.117647\n",
      "9             gdp_wi         408             46            11.274510\n",
      "10      house_mkt_wi         408            116            28.431373\n",
      "11      inflation_wi         408              9             2.205882\n",
      "12       monetary_wi         408             10             2.450980\n",
      "13            oil_wi         408             37             9.068627\n",
      "14          unemp_wi         408             21             5.147059\n",
      "15            usd_wi         408            111            27.205882\n"
     ]
    }
   ],
   "source": [
    "missing(mai_monthly_data)"
   ]
  },
  {
   "cell_type": "code",
   "execution_count": 40,
   "id": "9b70b882",
   "metadata": {},
   "outputs": [],
   "source": [
    "# Replace 0 with NaN and then forward fill\n",
    "mai_monthly_data.replace(0, pd.NA, inplace=True)\n",
    "mai_monthly_data.fillna(method='ffill', inplace=True)"
   ]
  },
  {
   "cell_type": "code",
   "execution_count": 41,
   "id": "02b1c3b5",
   "metadata": {},
   "outputs": [
    {
     "name": "stdout",
     "output_type": "stream",
     "text": [
      "              Column Total Count Missing values  % of missing values\n",
      "0   credit_rating_ni         408              0                  0.0\n",
      "1             gdp_ni         408              0                  0.0\n",
      "2       house_mkt_ni         408              0                  0.0\n",
      "3       inflation_ni         408              0                  0.0\n",
      "4        monetary_ni         408              0                  0.0\n",
      "5             oil_ni         408              0                  0.0\n",
      "6           unemp_ni         408              0                  0.0\n",
      "7             usd_ni         408              0                  0.0\n",
      "8   credit_rating_wi         408              0                  0.0\n",
      "9             gdp_wi         408              0                  0.0\n",
      "10      house_mkt_wi         408              0                  0.0\n",
      "11      inflation_wi         408              0                  0.0\n",
      "12       monetary_wi         408              0                  0.0\n",
      "13            oil_wi         408              0                  0.0\n",
      "14          unemp_wi         408              0                  0.0\n",
      "15            usd_wi         408              0                  0.0\n"
     ]
    }
   ],
   "source": [
    "missing(mai_monthly_data)"
   ]
  }
 ],
 "metadata": {
  "kernelspec": {
   "display_name": "Python 3 (ipykernel)",
   "language": "python",
   "name": "python3"
  },
  "language_info": {
   "codemirror_mode": {
    "name": "ipython",
    "version": 3
   },
   "file_extension": ".py",
   "mimetype": "text/x-python",
   "name": "python",
   "nbconvert_exporter": "python",
   "pygments_lexer": "ipython3",
   "version": "3.9.13"
  }
 },
 "nbformat": 4,
 "nbformat_minor": 5
}
