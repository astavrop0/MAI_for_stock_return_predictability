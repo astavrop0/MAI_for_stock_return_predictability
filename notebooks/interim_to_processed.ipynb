{
 "cells": [
  {
   "cell_type": "code",
   "execution_count": 21,
   "metadata": {
    "id": "NAzFdt4tvP-z"
   },
   "outputs": [],
   "source": [
    "import os\n",
    "import pandas as pd\n",
    "import numpy as np"
   ]
  },
  {
   "cell_type": "code",
   "execution_count": 22,
   "metadata": {},
   "outputs": [],
   "source": [
    "DATA_PATH = os.environ.get(\"RESEARCH_DATA_PATH\")"
   ]
  },
  {
   "cell_type": "markdown",
   "metadata": {},
   "source": [
    "### MAI: Interim --> Processed"
   ]
  },
  {
   "cell_type": "code",
   "execution_count": 29,
   "metadata": {
    "id": "_N6BIr_PpdAw"
   },
   "outputs": [],
   "source": [
    "#Transforms MAI data from interim to processed\n",
    "def mai_interim_to_processed(input_file, output_file):\n",
    "    # Load the original CSV file\n",
    "    df = pd.read_csv(input_file, index_col='date')\n",
    "\n",
    "    # Calculate outputs\n",
    "    df['credit_rating'] = df[['credit_rating_ni', 'credit_rating_wi']].mean(axis=1)\n",
    "    df['gdp'] = df[['gdp_ni', 'gdp_wi']].mean(axis=1)\n",
    "    df['house_mkt'] = df[['house_mkt_ni', 'house_mkt_wi']].mean(axis=1)\n",
    "    df['inflation'] = df[['inflation_ni', 'inflation_wi']].mean(axis=1)\n",
    "    df['monetary'] = df[['monetary_ni', 'monetary_wi']].mean(axis=1)\n",
    "    df['oil'] = df[['oil_ni', 'oil_wi']].mean(axis=1)\n",
    "    df['unemp'] = df[['unemp_ni', 'unemp_wi']].mean(axis=1)\n",
    "    df['usd'] = df[['usd_ni', 'usd_wi']].mean(axis=1)\n",
    "\n",
    "    # Create a new DataFrame with the desired columns\n",
    "    new_df = df[['credit_rating', 'gdp', 'house_mkt', 'inflation', 'monetary', 'oil', 'unemp', 'usd']]\n",
    "\n",
    "    # Save the new DataFrame to a new CSV file\n",
    "    new_df.to_csv(output_file, index=True)"
   ]
  },
  {
   "cell_type": "code",
   "execution_count": 31,
   "metadata": {},
   "outputs": [],
   "source": [
    "mai_interim_to_processed(f'{DATA_PATH}/interim/mai_daily_data_interim.csv', f'{DATA_PATH}/processed/mai_daily_data_processed.csv')\n",
    "mai_interim_to_processed(f'{DATA_PATH}/interim/mai_monthly_data_interim.csv', f'{DATA_PATH}/processed/mai_monthly_data_processed.csv')"
   ]
  },
  {
   "cell_type": "markdown",
   "metadata": {},
   "source": [
    "### MEF: Interim --> Processed"
   ]
  },
  {
   "cell_type": "code",
   "execution_count": 37,
   "metadata": {
    "id": "ETELGtYwvU5D"
   },
   "outputs": [],
   "source": [
    "#Transforms MEF data from interim to processed\n",
    "def mef_interim_to_processed(input_file, output_file):\n",
    "    # Load the original CSV file\n",
    "    df = pd.read_csv(input_file, index_col='date')\n",
    "\n",
    "    # Calculate outputs\n",
    "    df['dp'] = np.log(df['d12']) - np.log(df['index'])\n",
    "    df['dy'] = np.log(df['d12']) - np.log(df['lag_index_1'])\n",
    "    df['ep'] = np.log(df['e12']) - np.log(df['index'])\n",
    "    df['de'] = np.log(df['d12']) - np.log(df['e12'])\n",
    "    df['rvol'] = df['svar']\n",
    "    df['tms']= df['lty'] - df['tbl']\n",
    "    df['dfy']= df['baa'] - df['aaa']\n",
    "    df['dfr']= df['corpr'] - df['ltr']\n",
    "\n",
    "    # Create a new DataFrame with the desired columns\n",
    "    new_df = df[['dp','dy','ep','de', 'rvol','bm','ntis','tbl','lty','ltr','tms','dfy','dfr','infl']]\n",
    "\n",
    "    # Save the new DataFrame to a new CSV file\n",
    "    new_df.to_csv(output_file, index=True)"
   ]
  },
  {
   "cell_type": "code",
   "execution_count": 38,
   "metadata": {},
   "outputs": [],
   "source": [
    "mef_interim_to_processed(f'{DATA_PATH}/interim/mef_monthly_data_interim.csv', f'{DATA_PATH}/processed/mef_monthly_data_processed.csv')"
   ]
  },
  {
   "cell_type": "markdown",
   "metadata": {},
   "source": [
    "### MKT: Interim --> Processed"
   ]
  },
  {
   "cell_type": "code",
   "execution_count": 41,
   "metadata": {
    "id": "4etawGkyzT_f"
   },
   "outputs": [],
   "source": [
    "def mkt_interim_to_processed(input_file, output_file):\n",
    "    # Load the original CSV file\n",
    "    df = pd.read_csv(input_file)\n",
    "\n",
    "    # Convert date columns to datetime objects\n",
    "    df['date'] = pd.to_datetime(df['date'])\n",
    "    df['lag_date_1'] = pd.to_datetime(df['lag_date_1'])\n",
    "    df['lead_date_1'] = pd.to_datetime(df['lead_date_1'])\n",
    "\n",
    "    # Calculate the difference in days\n",
    "    df['GSPCprem'] = (df['GSPC'] / df['lag_GSPC_1'] - 1) * 252 / (df['date'] - df['lag_date_1']).dt.days * 100 - df['lag_rfr_1']\n",
    "    df['lead_GSPCprem_1'] = (df['lead_GSPC_1'] / df['GSPC'] - 1) * 252 / (df['lead_date_1'] - df['date']).dt.days * 100 - df['rfr']\n",
    "\n",
    "    # Create a new DataFrame with the desired columns\n",
    "    new_df = df[['date', 'GSPCprem', 'lead_GSPCprem_1']]\n",
    "    \n",
    "    new_df.set_index('date', inplace=True)\n",
    "\n",
    "    # Save the new DataFrame to a new CSV file\n",
    "    new_df.to_csv(output_file, index=True)"
   ]
  },
  {
   "cell_type": "code",
   "execution_count": 42,
   "metadata": {},
   "outputs": [],
   "source": [
    "mkt_interim_to_processed(f'{DATA_PATH}/interim/mkt_daily_data_interim.csv', f'{DATA_PATH}/processed/mkt_daily_data_processed.csv')\n",
    "mkt_interim_to_processed(f'{DATA_PATH}/interim/mkt_monthly_data_interim.csv', f'{DATA_PATH}/processed/mkt_monthly_data_processed.csv')"
   ]
  }
 ],
 "metadata": {
  "colab": {
   "provenance": []
  },
  "kernelspec": {
   "display_name": "Python 3 (ipykernel)",
   "language": "python",
   "name": "python3"
  },
  "language_info": {
   "codemirror_mode": {
    "name": "ipython",
    "version": 3
   },
   "file_extension": ".py",
   "mimetype": "text/x-python",
   "name": "python",
   "nbconvert_exporter": "python",
   "pygments_lexer": "ipython3",
   "version": "3.9.13"
  }
 },
 "nbformat": 4,
 "nbformat_minor": 1
}
