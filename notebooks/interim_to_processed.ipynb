{
  "cells": [
    {
      "cell_type": "code",
      "execution_count": 2,
      "metadata": {
        "id": "NAzFdt4tvP-z"
      },
      "outputs": [],
      "source": [
        "import pandas as pd\n",
        "import numpy as np"
      ]
    },
    {
      "cell_type": "code",
      "execution_count": 3,
      "metadata": {
        "id": "_N6BIr_PpdAw"
      },
      "outputs": [],
      "source": [
        "def mai_interim_to_processed(input_file, output_file):\n",
        "    # Load the original CSV file\n",
        "    df = pd.read_csv(input_file)\n",
        "\n",
        "    # Calculate outputs\n",
        "    df['credit_rating'] = df[['credit_rating_ni', 'credit_rating_wi']].mean(axis=1)\n",
        "    df['gdp'] = df[['gdp_ni', 'gdp_wi']].mean(axis=1)\n",
        "    df['house_mkt'] = df[['house_mkt_ni', 'house_mkt_wi']].mean(axis=1)\n",
        "    df['inflation'] = df[['inflation_ni', 'inflation_wi']].mean(axis=1)\n",
        "    df['monetary'] = df[['monetary_ni', 'monetary_wi']].mean(axis=1)\n",
        "    df['oil'] = df[['oil_ni', 'oil_wi']].mean(axis=1)\n",
        "    df['unemp'] = df[['unemp_ni', 'unemp_wi']].mean(axis=1)\n",
        "    df['usd'] = df[['usd_ni', 'usd_wi']].mean(axis=1)\n",
        "\n",
        "    # Create a new DataFrame with the desired columns\n",
        "    new_df = df[['date', 'credit_rating', 'gdp', 'house_mkt', 'inflation', 'monetary', 'oil', 'unemp', 'usd']]\n",
        "\n",
        "    # Save the new DataFrame to a new CSV file\n",
        "    new_df.to_csv(output_file, index=False)"
      ]
    },
    {
      "cell_type": "code",
      "execution_count": 4,
      "metadata": {
        "id": "ETELGtYwvU5D"
      },
      "outputs": [],
      "source": [
        "def mef_interim_to_processed(input_file, output_file):\n",
        "    # Load the original CSV file\n",
        "    df = pd.read_csv(input_file)\n",
        "\n",
        "    # Calculate outputs\n",
        "    df['dp'] = np.log(df['d12']) - np.log(df['index'])\n",
        "    df['dy'] = np.log(df['d12']) - np.log(df['lag_index_1'])\n",
        "    df['ep'] = np.log(df['e12']) - np.log(df['index'])\n",
        "    df['de'] = np.log(df['d12']) - np.log(df['e12'])\n",
        "    df['rvol'] = df['svar']\n",
        "    df['tms']\t= df['lty'] - df['tbl']\n",
        "    df['dfy']\t= df['baa'] - df['aaa']\n",
        "    df['dfr']\t= df['corpr'] - df['ltr']\n",
        "\n",
        "    # Create a new DataFrame with the desired columns\n",
        "    new_df = df[['date', 'dp',\t'dy',\t'ep',\t'de', 'rvol',\t'bm',\t'ntis',\t'tbl',\t'lty',\t'ltr',\t'tms',\t'dfy',\t'dfr',\t'infl']]\n",
        "\n",
        "    # Save the new DataFrame to a new CSV file\n",
        "    new_df.to_csv(output_file, index=False)"
      ]
    },
    {
      "cell_type": "code",
      "execution_count": 5,
      "metadata": {
        "id": "4etawGkyzT_f"
      },
      "outputs": [],
      "source": [
        "def mkt_interim_to_processed(input_file, output_file):\n",
        "    # Load the original CSV file\n",
        "    df = pd.read_csv(input_file)\n",
        "\n",
        "    # Convert date columns to datetime objects\n",
        "    df['date'] = pd.to_datetime(df['date'])\n",
        "    df['lag_date_1'] = pd.to_datetime(df['lag_date_1'])\n",
        "    df['lead_date_1'] = pd.to_datetime(df['lead_date_1'])\n",
        "\n",
        "    # Calculate the difference in days\n",
        "    df['GSPCprem'] = (df['GSPC'] / df['lag_GSPC_1'] - 1) * 252 / (df['date'] - df['lag_date_1']).dt.days * 100 - df['lag_rfr_1']\n",
        "    df['lead_GSPCprem_1'] = (df['lead_GSPC_1'] / df['GSPC'] - 1) * 252 / (df['lead_date_1'] - df['date']).dt.days * 100 - df['rfr']\n",
        "\n",
        "    # Create a new DataFrame with the desired columns\n",
        "    new_df = df[['date', 'GSPCprem', 'lead_GSPCprem_1']]\n",
        "\n",
        "    # Save the new DataFrame to a new CSV file\n",
        "    new_df.to_csv(output_file, index=False)"
      ]
    }
  ],
  "metadata": {
    "colab": {
      "provenance": []
    },
    "kernelspec": {
      "display_name": "Python 3",
      "name": "python3"
    },
    "language_info": {
      "name": "python"
    }
  },
  "nbformat": 4,
  "nbformat_minor": 0
}