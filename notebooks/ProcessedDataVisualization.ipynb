{
 "cells": [
  {
   "cell_type": "code",
   "execution_count": 1,
   "id": "2803f4db-0a33-4075-84be-d7b3f406c94b",
   "metadata": {},
   "outputs": [
    {
     "name": "stdout",
     "output_type": "stream",
     "text": [
      "Requirement already satisfied: plotly in /Library/Frameworks/Python.framework/Versions/3.8/lib/python3.8/site-packages (5.18.0)\n",
      "Requirement already satisfied: pandas in /Library/Frameworks/Python.framework/Versions/3.8/lib/python3.8/site-packages (2.0.3)\n",
      "Requirement already satisfied: dash in /Library/Frameworks/Python.framework/Versions/3.8/lib/python3.8/site-packages (2.14.1)\n",
      "Requirement already satisfied: packaging in /Library/Frameworks/Python.framework/Versions/3.8/lib/python3.8/site-packages (from plotly) (23.2)\n",
      "Requirement already satisfied: tenacity>=6.2.0 in /Library/Frameworks/Python.framework/Versions/3.8/lib/python3.8/site-packages (from plotly) (8.2.3)\n",
      "Requirement already satisfied: numpy>=1.20.3; python_version < \"3.10\" in /Library/Frameworks/Python.framework/Versions/3.8/lib/python3.8/site-packages (from pandas) (1.24.4)\n",
      "Requirement already satisfied: python-dateutil>=2.8.2 in /Library/Frameworks/Python.framework/Versions/3.8/lib/python3.8/site-packages (from pandas) (2.8.2)\n",
      "Requirement already satisfied: tzdata>=2022.1 in /Library/Frameworks/Python.framework/Versions/3.8/lib/python3.8/site-packages (from pandas) (2023.3)\n",
      "Requirement already satisfied: pytz>=2020.1 in /Library/Frameworks/Python.framework/Versions/3.8/lib/python3.8/site-packages (from pandas) (2023.3.post1)\n",
      "Requirement already satisfied: setuptools in /Library/Frameworks/Python.framework/Versions/3.8/lib/python3.8/site-packages (from dash) (49.2.1)\n",
      "Requirement already satisfied: nest-asyncio in /Library/Frameworks/Python.framework/Versions/3.8/lib/python3.8/site-packages (from dash) (1.5.8)\n",
      "Requirement already satisfied: retrying in /Library/Frameworks/Python.framework/Versions/3.8/lib/python3.8/site-packages (from dash) (1.3.4)\n",
      "Requirement already satisfied: dash-html-components==2.0.0 in /Library/Frameworks/Python.framework/Versions/3.8/lib/python3.8/site-packages (from dash) (2.0.0)\n",
      "Requirement already satisfied: typing-extensions>=4.1.1 in /Library/Frameworks/Python.framework/Versions/3.8/lib/python3.8/site-packages (from dash) (4.8.0)\n",
      "Requirement already satisfied: importlib-metadata; python_version >= \"3.7\" in /Library/Frameworks/Python.framework/Versions/3.8/lib/python3.8/site-packages (from dash) (6.8.0)\n",
      "Requirement already satisfied: Flask<3.1,>=1.0.4 in /Library/Frameworks/Python.framework/Versions/3.8/lib/python3.8/site-packages (from dash) (3.0.0)\n",
      "Requirement already satisfied: requests in /Library/Frameworks/Python.framework/Versions/3.8/lib/python3.8/site-packages (from dash) (2.31.0)\n",
      "Requirement already satisfied: ansi2html in /Library/Frameworks/Python.framework/Versions/3.8/lib/python3.8/site-packages (from dash) (1.8.0)\n",
      "Requirement already satisfied: Werkzeug<3.1 in /Library/Frameworks/Python.framework/Versions/3.8/lib/python3.8/site-packages (from dash) (3.0.1)\n",
      "Requirement already satisfied: dash-core-components==2.0.0 in /Library/Frameworks/Python.framework/Versions/3.8/lib/python3.8/site-packages (from dash) (2.0.0)\n",
      "Requirement already satisfied: dash-table==5.0.0 in /Library/Frameworks/Python.framework/Versions/3.8/lib/python3.8/site-packages (from dash) (5.0.0)\n",
      "Requirement already satisfied: six>=1.5 in /Library/Frameworks/Python.framework/Versions/3.8/lib/python3.8/site-packages (from python-dateutil>=2.8.2->pandas) (1.15.0)\n",
      "Requirement already satisfied: zipp>=0.5 in /Library/Frameworks/Python.framework/Versions/3.8/lib/python3.8/site-packages (from importlib-metadata; python_version >= \"3.7\"->dash) (3.17.0)\n",
      "Requirement already satisfied: blinker>=1.6.2 in /Library/Frameworks/Python.framework/Versions/3.8/lib/python3.8/site-packages (from Flask<3.1,>=1.0.4->dash) (1.7.0)\n",
      "Requirement already satisfied: click>=8.1.3 in /Library/Frameworks/Python.framework/Versions/3.8/lib/python3.8/site-packages (from Flask<3.1,>=1.0.4->dash) (8.1.7)\n",
      "Requirement already satisfied: itsdangerous>=2.1.2 in /Library/Frameworks/Python.framework/Versions/3.8/lib/python3.8/site-packages (from Flask<3.1,>=1.0.4->dash) (2.1.2)\n",
      "Requirement already satisfied: Jinja2>=3.1.2 in /Library/Frameworks/Python.framework/Versions/3.8/lib/python3.8/site-packages (from Flask<3.1,>=1.0.4->dash) (3.1.2)\n",
      "Requirement already satisfied: charset-normalizer<4,>=2 in /Library/Frameworks/Python.framework/Versions/3.8/lib/python3.8/site-packages (from requests->dash) (3.3.2)\n",
      "Requirement already satisfied: idna<4,>=2.5 in /Library/Frameworks/Python.framework/Versions/3.8/lib/python3.8/site-packages (from requests->dash) (3.5)\n",
      "Requirement already satisfied: certifi>=2017.4.17 in /Library/Frameworks/Python.framework/Versions/3.8/lib/python3.8/site-packages (from requests->dash) (2020.6.20)\n",
      "Requirement already satisfied: urllib3<3,>=1.21.1 in /Library/Frameworks/Python.framework/Versions/3.8/lib/python3.8/site-packages (from requests->dash) (2.1.0)\n",
      "Requirement already satisfied: MarkupSafe>=2.1.1 in /Library/Frameworks/Python.framework/Versions/3.8/lib/python3.8/site-packages (from Werkzeug<3.1->dash) (2.1.3)\n",
      "\u001b[33mWARNING: You are using pip version 20.2.1; however, version 23.3.1 is available.\n",
      "You should consider upgrading via the '/Library/Frameworks/Python.framework/Versions/3.8/bin/python3.8 -m pip install --upgrade pip' command.\u001b[0m\n",
      "Note: you may need to restart the kernel to use updated packages.\n"
     ]
    }
   ],
   "source": [
    "pip install plotly pandas dash"
   ]
  },
  {
   "cell_type": "code",
   "execution_count": 10,
   "id": "fc4413fc-ce20-4bca-b3b0-9d527ac25948",
   "metadata": {},
   "outputs": [],
   "source": [
    "import pandas as pd\n",
    "import dash\n",
    "from dash import dcc, html\n",
    "from dash.dependencies import Input, Output\n",
    "from plotly.subplots import make_subplots\n",
    "import plotly.graph_objects as go  # Added import for go"
   ]
  },
  {
   "cell_type": "code",
   "execution_count": 11,
   "id": "2ea4bfef-0f3e-4898-bdfd-f4d8d33e8a95",
   "metadata": {},
   "outputs": [],
   "source": [
    "mef_m_clean = pd.read_csv('/Users/michaelgeiser/Desktop/MScQF/Lectures/Fall 2023/DTF/data/clean_data/mef_m_clean.csv')\n",
    "mkt_m_clean = pd.read_csv('/Users/michaelgeiser/Desktop/MScQF/Lectures/Fall 2023/DTF/data/clean_data/mkt_m_clean.csv')"
   ]
  },
  {
   "cell_type": "code",
   "execution_count": 12,
   "id": "0d225d57-a1e6-4ccf-8d7f-34e89b0da579",
   "metadata": {},
   "outputs": [],
   "source": [
    "def normalize_columns(df):\n",
    "    \"\"\"Normalize all columns in a DataFrame except 'date'.\"\"\"\n",
    "    df_normalized = df.copy()\n",
    "    for column in df.columns:\n",
    "        if column != 'date':\n",
    "            df_normalized[column] = (df[column] - df[column].mean()) / df[column].std()\n",
    "    return df_normalized\n",
    "\n",
    "mef_m_clean = normalize_columns(mef_m_clean)\n",
    "mkt_m_clean = normalize_columns(mkt_m_clean)"
   ]
  },
  {
   "cell_type": "code",
   "execution_count": 23,
   "id": "e8aa3387-efbb-482c-b80d-51ba6b81d6ad",
   "metadata": {},
   "outputs": [
    {
     "data": {
      "text/html": [
       "\n",
       "        <iframe\n",
       "            width=\"100%\"\n",
       "            height=\"650\"\n",
       "            src=\"http://127.0.0.1:8050/\"\n",
       "            frameborder=\"0\"\n",
       "            allowfullscreen\n",
       "            \n",
       "        ></iframe>\n",
       "        "
      ],
      "text/plain": [
       "<IPython.lib.display.IFrame at 0x7ff6c4da6580>"
      ]
     },
     "metadata": {},
     "output_type": "display_data"
    }
   ],
   "source": [
    "# Initialize the Dash app\n",
    "app = dash.Dash(__name__)\n",
    "\n",
    "# Layout of the app\n",
    "app.layout = html.Div([\n",
    "    html.H1(\"MEF Data vs GSPC\"),\n",
    "    \n",
    "    # Checklist for selecting columns in mef_m_clean\n",
    "    html.Label(\"Select Macro Economic Factors:\"),\n",
    "    dcc.Checklist(\n",
    "        id='column-dropdown',\n",
    "        options=[{'label': col, 'value': col} for col in mef_m_clean.columns if col != 'date'],\n",
    "        value=mef_m_clean.columns[:5],  # Set default values\n",
    "        inline=True,  # Display options horizontally\n",
    "        style={'columnCount': 1}  # Arrange options into one column\n",
    "    ),\n",
    "    \n",
    "    # Dropdown for selecting GSPCprem or lead_GSPCprem_1 in mkt_m_clean\n",
    "    html.Label(\"Select GSPCprem or lead_GSPCprem_1:\"),\n",
    "    dcc.Dropdown(\n",
    "        id='mkt-column-selector',\n",
    "        options=[\n",
    "            {'label': 'GSPCprem', 'value': 'GSPCprem'},\n",
    "            {'label': 'lead_GSPCprem_1', 'value': 'lead_GSPCprem_1'}\n",
    "        ],\n",
    "        value='GSPCprem',  # Set default value\n",
    "        multi=False\n",
    "    ),\n",
    "    \n",
    "    # DatePickerRange for selecting start and end dates\n",
    "    html.Label(\"Select Date Range:\"),\n",
    "    dcc.DatePickerRange(\n",
    "        id='date-range-selector',\n",
    "        start_date=mef_m_clean['date'].min(),\n",
    "        end_date=mef_m_clean['date'].max(),\n",
    "        display_format='YYYY-MM-DD'\n",
    "    ),\n",
    "    \n",
    "    # Plotly figure\n",
    "    dcc.Graph(id='line-plot')\n",
    "])\n",
    "\n",
    "# Callback to update the plot based on user input\n",
    "@app.callback(\n",
    "    Output('line-plot', 'figure'),\n",
    "    [Input('column-dropdown', 'value'),\n",
    "     Input('date-range-selector', 'start_date'),\n",
    "     Input('date-range-selector', 'end_date')]\n",
    ")\n",
    "def update_plot(selected_columns, start_date, end_date):\n",
    "    # Filter data based on date range\n",
    "    filtered_mef_m_clean = mef_m_clean[(mef_m_clean['date'] >= start_date) & (mef_m_clean['date'] <= end_date)]\n",
    "    filtered_mkt_m_clean = mkt_m_clean[(mkt_m_clean['date'] >= start_date) & (mkt_m_clean['date'] <= end_date)]\n",
    "\n",
    "    # Create subplots with shared x-axis\n",
    "    fig = make_subplots(specs=[[{\"secondary_y\": True}]])\n",
    "    \n",
    "    # Add traces for mef_m_clean (excluding 'date')\n",
    "    for i, column in enumerate(selected_columns):\n",
    "        if column != 'date':\n",
    "            linestyle = ['solid', 'dash', 'dot', 'dashdot'][i % 4]  # Use different line styles\n",
    "            fig.add_trace(\n",
    "                go.Scatter(x=filtered_mef_m_clean['date'], y=filtered_mef_m_clean[column],\n",
    "                           name=f'MEF: {column}', line=dict(color='blue', dash=linestyle)),\n",
    "                secondary_y=False,\n",
    "            )\n",
    "\n",
    "    # Add trace for GSPCprem or lead_GSPCprem_1 in mkt_m_clean\n",
    "    mkt_column = 'GSPCprem'  # Change to 'lead_GSPCprem_1' if needed\n",
    "    fig.add_trace(\n",
    "        go.Scatter(x=filtered_mkt_m_clean['date'], y=filtered_mkt_m_clean[mkt_column],\n",
    "                   name=f'MKT: {mkt_column}', line=dict(color='red', dash='solid')),\n",
    "        secondary_y=True,\n",
    "    )\n",
    "\n",
    "    # Update layout\n",
    "    fig.update_layout(xaxis_title=\"Date\")\n",
    "\n",
    "    # Update y-axis labels and set manual ranges\n",
    "    fig.update_yaxes(title_text=\"MEF Data (Normalized)\", secondary_y=False, range=[-6, 6])  # Set your desired range\n",
    "    fig.update_yaxes(title_text=\"GSPC Data\", secondary_y=True, range=[-6, 6])  # Set your desired range\n",
    "\n",
    "    return fig\n",
    "\n",
    "# Run the app\n",
    "if __name__ == '__main__':\n",
    "    app.run_server(debug=True)"
   ]
  }
 ],
 "metadata": {
  "kernelspec": {
   "display_name": "Python 3 (ipykernel)",
   "language": "python",
   "name": "python3"
  },
  "language_info": {
   "codemirror_mode": {
    "name": "ipython",
    "version": 3
   },
   "file_extension": ".py",
   "mimetype": "text/x-python",
   "name": "python",
   "nbconvert_exporter": "python",
   "pygments_lexer": "ipython3",
   "version": "3.9.13"
  }
 },
 "nbformat": 4,
 "nbformat_minor": 5
}
